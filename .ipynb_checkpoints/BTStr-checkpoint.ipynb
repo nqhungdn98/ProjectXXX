{
 "cells": [
  {
   "cell_type": "code",
   "execution_count": 5,
   "id": "e73b12ec-02b2-424b-8029-320fe631a339",
   "metadata": {},
   "outputs": [
    {
     "name": "stdout",
     "output_type": "stream",
     "text": [
      "Xin chào thứ3\n",
      "END\n"
     ]
    }
   ],
   "source": [
    "print('Xin chào thứ', 3, sep='')\n",
    "print('END')"
   ]
  },
  {
   "cell_type": "code",
   "execution_count": 7,
   "id": "e6023a26-7b9c-49e0-be90-13dd3865310c",
   "metadata": {},
   "outputs": [
    {
     "name": "stdout",
     "output_type": "stream",
     "text": [
      "1+1 bằng 2\n"
     ]
    }
   ],
   "source": [
    "print(f'1+1 bằng {1+1}')"
   ]
  },
  {
   "cell_type": "code",
   "execution_count": 9,
   "id": "27ebd87d-5427-427d-96cb-299fd810f7a3",
   "metadata": {},
   "outputs": [
    {
     "name": "stdout",
     "output_type": "stream",
     "text": [
      "Xin chào Hưng, hôm nay là thứ 2\n"
     ]
    }
   ],
   "source": [
    "txt= 'Xin chào {fname}, hôm nay là thứ {thu}'.format(fname='Hưng', thu= 2)\n",
    "print(txt)"
   ]
  },
  {
   "cell_type": "code",
   "execution_count": 11,
   "id": "b93e0fc6-9dd9-43ae-a53c-d9fbc8de7ebf",
   "metadata": {},
   "outputs": [
    {
     "name": "stdout",
     "output_type": "stream",
     "text": [
      "Tôi có 345.25 dollars\n"
     ]
    }
   ],
   "source": [
    "print(\"Tôi có {0:.2f} dollars\".format(345.24726348))"
   ]
  },
  {
   "cell_type": "code",
   "execution_count": 16,
   "id": "0a1e7c06-5822-4158-92b0-afcc68ee9cd2",
   "metadata": {},
   "outputs": [
    {
     "name": "stdin",
     "output_type": "stream",
     "text": [
      "Hãy nhập số:  89\n",
      "Hãy nhập số:  76\n"
     ]
    },
    {
     "name": "stdout",
     "output_type": "stream",
     "text": [
      "Thương của hai số là: 1.17\n"
     ]
    }
   ],
   "source": [
    "num1= int(input(\"Hãy nhập số: \"))\n",
    "num2= int(input(\"Hãy nhập số: \"))\n",
    "print(\"Thương của hai số là: {0:.2f}\".format(num1/num2))"
   ]
  },
  {
   "cell_type": "code",
   "execution_count": null,
   "id": "9d8db3a8-1860-4d95-9967-cb74abaff2c9",
   "metadata": {},
   "outputs": [],
   "source": []
  }
 ],
 "metadata": {
  "kernelspec": {
   "display_name": "Python 3 (ipykernel)",
   "language": "python",
   "name": "python3"
  },
  "language_info": {
   "codemirror_mode": {
    "name": "ipython",
    "version": 3
   },
   "file_extension": ".py",
   "mimetype": "text/x-python",
   "name": "python",
   "nbconvert_exporter": "python",
   "pygments_lexer": "ipython3",
   "version": "3.11.5"
  }
 },
 "nbformat": 4,
 "nbformat_minor": 5
}
